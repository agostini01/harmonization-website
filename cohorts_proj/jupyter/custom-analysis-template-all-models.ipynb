{
 "cells": [
  {
   "cell_type": "code",
   "execution_count": 1,
   "metadata": {},
   "outputs": [
    {
     "name": "stdout",
     "output_type": "stream",
     "text": [
      "Defaulting to user installation because normal site-packages is not writeable\n",
      "Requirement already satisfied: lxml in /home/developer/.local/lib/python3.8/site-packages (4.8.0)\n",
      "\u001b[33mWARNING: You are using pip version 22.0.3; however, version 22.0.4 is available.\n",
      "You should consider upgrading via the '/usr/local/bin/python -m pip install --upgrade pip' command.\u001b[0m\u001b[33m\n",
      "\u001b[0m"
     ]
    }
   ],
   "source": [
    "# Required to access the database\n",
    "import os\n",
    "os.environ[\"DJANGO_ALLOW_ASYNC_UNSAFE\"] = \"true\"\n",
    "\n",
    "import sys\n",
    "import numpy\n",
    "numpy.set_printoptions(threshold=sys.maxsize)\n",
    "\n",
    "# Data analysis tools\n",
    "import pandas as pd\n",
    "import numpy as np\n",
    "import seaborn as sns\n",
    "\n",
    "# Models available in our application\n",
    "from datasets.models import RawFlower, RawUNM, RawDAR\n",
    "from django.contrib.auth.models import User\n",
    "from datasets.models import RawDictionary\n",
    "\n",
    "\n",
    "from datasets.models import RawNEU\n",
    "import statsmodels.api as sm\n",
    "import statsmodels.formula.api as smf\n",
    "import statsmodels\n",
    "\n",
    "!pip install lxml"
   ]
  },
  {
   "cell_type": "code",
   "execution_count": 2,
   "metadata": {},
   "outputs": [],
   "source": [
    "from api import adapters\n",
    "from api import analysis\n",
    "\n",
    "pd.set_option('display.max_columns', None)\n",
    "pd.set_option('display.max_rows', None)"
   ]
  },
  {
   "cell_type": "code",
   "execution_count": 3,
   "metadata": {},
   "outputs": [],
   "source": [
    "def dummy_code(df, covars_cat, contin):\n",
    "    coded_covars = []\n",
    "    orig_shape = df.shape[0]\n",
    "    for var in covars_cat:\n",
    "\n",
    "        df[var] = pd.Categorical(df[var])\n",
    "\n",
    "        dummies_df = pd.get_dummies(df[var], prefix = var, drop_first=True)\n",
    "\n",
    "        coded_covars = coded_covars + [ x for x in dummies_df.columns.tolist()]\n",
    "\n",
    "        df = pd.concat([df, dummies_df], axis = 1)\n",
    "        df.drop([var], inplace = True, axis = 1)\n",
    "        \n",
    "        assert df.shape[0] == orig_shape\n",
    "    \n",
    "    #print(coded_covars + contin)\n",
    "    return df[coded_covars + contin]\n"
   ]
  },
  {
   "cell_type": "code",
   "execution_count": 4,
   "metadata": {},
   "outputs": [],
   "source": [
    "from api import dilutionproc   "
   ]
  },
  {
   "cell_type": "code",
   "execution_count": 5,
   "metadata": {},
   "outputs": [],
   "source": [
    "def merge2CohortFrames2(df1,df2):\n",
    "    'merge on feature intersections'\n",
    "\n",
    "    for as_feature in ['UASB', 'UDMA', 'UAS5', 'UIAS', 'UAS3', 'UMMA']:\n",
    "        if as_feature not in df1.columns:\n",
    "            df1[as_feature] = np.nan\n",
    "        if as_feature not in df2.columns:\n",
    "            df2[as_feature] = np.nan\n",
    "\n",
    "    s1 = set(df1.columns)\n",
    "    s2 = set(df2.columns)\n",
    " \n",
    "\n",
    "    cc = set.intersection(s1, s2)\n",
    "\n",
    "    df_all = pd.concat([df1[cc],df2[cc]])\n",
    "\n",
    "    return df_all\n",
    "\n",
    "\n",
    "def merge3CohortFrames2(df1,df2,df3):\n",
    "    'merge on feature intersections'\n",
    "\n",
    "    for as_feature in ['UASB', 'UDMA', 'UAS5', 'UIAS', 'UAS3', 'UMMA']:\n",
    "        if as_feature not in df1.columns:\n",
    "            df1[as_feature] = np.nan\n",
    "        if as_feature not in df2.columns:\n",
    "            df2[as_feature] = np.nan\n",
    "        if as_feature not in df3.columns:\n",
    "            df3[as_feature] = np.nan\n",
    "\n",
    "    s1 = set(df1.columns)\n",
    "    s2 = set(df2.columns)\n",
    "    s3 = set(df3.columns)\n",
    "\n",
    "    cc = set.intersection(s1, s2, s3)\n",
    "\n",
    "    df_all = pd.concat([df1[cc],df2[cc],df3[cc]])\n",
    "\n",
    "    return df_all"
   ]
  },
  {
   "cell_type": "code",
   "execution_count": 6,
   "metadata": {},
   "outputs": [],
   "source": [
    "## decide whether to exclude fish consumption (True = include fish, False = No fish)\n",
    "#Model1 = False\n",
    "#Model4 = True\n",
    "fish_consumption = True\n",
    "## decide whether to adjust the model using the dilution procedure (True = run dilution adj, False = no)\n",
    "run_adjustment = True\n",
    "## specify whether to use dilution as covariate (only works if two cohorts/summation is run)\n",
    "use_dilution_as_covar = False\n",
    "\n",
    "\n",
    "if use_dilution_as_covar == True:\n",
    "    run_adjustment = False\n",
    "\n",
    "## exposure var\n",
    "\n",
    "#exposure_var = 'SUM2'\n",
    "#exposure_var = 'SUM1'\n",
    "exposure_var = 'UTAS'\n",
    "\n",
    "if 'SUM' in exposure_var:\n",
    "    fish_consumption = True"
   ]
  },
  {
   "cell_type": "code",
   "execution_count": 7,
   "metadata": {},
   "outputs": [
    {
     "name": "stdout",
     "output_type": "stream",
     "text": [
      "Data Stats\n",
<<<<<<< HEAD
      "NEU\n",
      "(570, 55)\n",
      "Data Stats\n",
      "UNM\n",
      "(521, 53)\n",
=======
      "UNM\n",
      "(2152, 199)\n",
>>>>>>> f338f2db62520590499a5b6f116c437b336ed547
      "Data Stats\n",
      "DAR\n",
      "(2152, 199)\n",
      "Data Stats\n",
      "ALL\n",
<<<<<<< HEAD
      "(3243, 46)\n"
=======
      "(4304, 199)\n"
>>>>>>> f338f2db62520590499a5b6f116c437b336ed547
     ]
    }
   ],
   "source": [
    "## Get the data\n",
    "\n",
    "## Get NEU data with no fish\n",
    "df_NEU = adapters.neu.get_dataframe_orig()\n",
    "df_NEU = df_NEU[df_NEU['TimePeriod']==2] # Visit 2\n",
    "\n",
    "df_NEU_covars = adapters.neu.get_dataframe_covars()\n",
    "df_NEU = df_NEU_covars.merge(df_NEU, on = ['PIN_Patient','CohortType','TimePeriod']) #Merge the covariates\n",
    "df_NEU = df_NEU.replace(-9,np.nan).replace('-9', np.nan)\n",
    "## Get DAR data\n",
    "df_DAR = adapters.dar.get_dataframe()\n",
    "\n",
    "#df_DAR = df_NEU.copy()\n",
    "#df_DAR['CohortType'] = 'DAR'\n",
    "\n",
    "## Get UNM data with no fis\n",
    "\n",
    "df_UNM = adapters.unm.get_dataframe_orig()\n",
    "df_UNM_covars = adapters.unm.get_dataframe_covars()\n",
    "df_UNM = df_UNM_covars.merge(df_UNM, on = ['PIN_Patient','CohortType','TimePeriod']) #Merge the covariates\n",
    "\n",
    "\n",
    "## comment these two lines if on live machine\n",
    "#df_UNM = df_DAR.copy()\n",
    "#df_UNM['CohortType'] = 'UNM'\n",
    "\n",
    "#df_UNM = df_NEU.copy()\n",
    "\n",
    "\n",
    "# Remove fish\n",
    "if fish_consumption == False:\n",
    "    df_NEU = df_NEU[(df_NEU['fish_pu_v2'] == 0) & (df_NEU['fish'] == 0)] #No fish consumption\n",
    "    df_UNM = df_UNM[df_UNM['fish']==0]\n",
    "    df_DAR = adapters.dar.get_dataframe_nofish()\n",
    "\n",
    " # Total sum all 3 cohorts are being run since they all have 'harmonized' UTAS   \n",
    "if exposure_var == 'UTAS':\n",
    "    \n",
    "    df_ALL = merge3CohortFrames2(df_NEU, df_UNM, df_DAR)\n",
    "\n",
    "    frames_for_adjust = [\n",
    "        ('NEU', df_NEU),\n",
    "        ('UNM', df_UNM),\n",
    "        ('DAR', df_DAR)\n",
    "    ]\n",
    "\n",
    "    #df_ALL = analysis.merge3CohortFrames(df_NEU, df_UNM, df_DAR)\n",
    "    frames_for_analysis = [\n",
    "        ('NEU', df_NEU),\n",
    "        ('UNM', df_UNM),\n",
    "        ('DAR', df_DAR),\n",
    "        ('ALL', df_ALL)\n",
    "\n",
    "    ]\n",
    "\n",
    "    for name, df in frames_for_analysis:\n",
    "        print('Data Stats')\n",
    "        print(name)\n",
    "        print(df.shape)\n",
    "\n",
    "# this is for the speciatated summations. NEU does not have this data, only DAR and UNM\n",
    "# two different sums are being considered\n",
    "if 'SUM' in exposure_var:\n",
    "    \n",
    "    #df_ALL is now only 2 cohorts\n",
    "\n",
    "    frames_for_adjust = [\n",
    "        ('UNM', df_UNM),\n",
    "        ('DAR', df_DAR)\n",
    "    ]\n",
    "    \n",
    "    #TODO: Calculate the summation?\n",
    "    #['UASB', 'UDMA', 'UAS5', 'UIAS', 'UAS3', 'UMMA']\n",
    "    '''\n",
    "    mu1, sigma1 = 0, .2\n",
    "    mu2, sigma2 = 0, .15\n",
    "  \n",
    "    df_UNM['UAS5'] = np.random.normal(mu1, sigma1, df_UNM.shape[0])\n",
    "    df_UNM['UAS3'] = np.random.normal(mu1, sigma1, df_UNM.shape[0])\n",
    "    df_DAR['UAS5'] = np.random.normal(mu1, sigma1, df_DAR.shape[0])\n",
    "    df_DAR['UAS3'] = np.random.normal(mu1, sigma1, df_DAR.shape[0])\n",
    "    \n",
    "    '''\n",
    "    \n",
    "    #sum the speciations\n",
    "    #SUM1 = UAS5 + UAS3\n",
    "    #SUM2 = UAS5 + UAS3 + UMMA + UDMA\n",
    "    if exposure_var == 'SUM1':\n",
    "        df_UNM['SUM1'] = df_UNM['UAS5'] + df_UNM['UAS3']\n",
    "        df_DAR['SUM1'] = df_DAR['UAS5'] + df_DAR['UAS3']\n",
    "        \n",
    "    if exposure_var == 'SUM2':\n",
    "        df_UNM['SUM2'] = df_UNM['UAS5'] + df_UNM['UAS3'] + df_UNM['UMMA'] + df_UNM['UDMA']\n",
    "        df_DAR['SUM2'] = df_DAR['UAS5'] + df_DAR['UAS3'] + df_UNM['UMMA'] + df_UNM['UDMA']\n",
    "    \n",
    "    #merge the cohorts\n",
    "    df_ALL = merge2CohortFrames2(df_UNM, df_DAR)\n",
    "\n",
    "    frames_for_analysis = [\n",
    "        ('UNM', df_UNM),\n",
    "        ('DAR', df_DAR),\n",
    "        ('ALL', df_ALL)\n",
    "\n",
    "    ]\n",
    "    \n",
    "    for name, df in frames_for_analysis:\n",
    "        print('Data Stats')\n",
    "        print(name)\n",
    "        print(df.shape)\n"
   ]
  },
  {
   "cell_type": "code",
   "execution_count": 8,
   "metadata": {},
   "outputs": [
    {
     "name": "stdout",
     "output_type": "stream",
     "text": [
<<<<<<< HEAD
      "Working on  NEU\n",
      "Model out 522. afterocnf 522. check ids 522\n",
      "(522, 3)\n",
      "Done\n",
      "Working on  UNM\n",
      "Model out 269. afterocnf 269. check ids 269\n",
      "(269, 3)\n",
=======
      "Working on  UNM\n",
      "2027\n",
      "Model out 2027. afterocnf 2027. check ids 2027\n",
      "(2027, 3)\n",
>>>>>>> f338f2db62520590499a5b6f116c437b336ed547
      "Done\n",
      "Working on  DAR\n"
     ]
    },
    {
     "name": "stderr",
     "output_type": "stream",
     "text": [
<<<<<<< HEAD
      "/usr/local/lib/python3.8/site-packages/pandas/core/indexing.py:845: SettingWithCopyWarning: \n",
      "A value is trying to be set on a copy of a slice from a DataFrame.\n",
      "Try using .loc[row_indexer,col_indexer] = value instead\n",
      "\n",
      "See the caveats in the documentation: https://pandas.pydata.org/pandas-docs/stable/user_guide/indexing.html#returning-a-view-versus-a-copy\n",
      "  self.obj[key] = _infer_fill_value(value)\n",
      "/usr/local/lib/python3.8/site-packages/pandas/core/indexing.py:966: SettingWithCopyWarning: \n",
      "A value is trying to be set on a copy of a slice from a DataFrame.\n",
      "Try using .loc[row_indexer,col_indexer] = value instead\n",
      "\n",
      "See the caveats in the documentation: https://pandas.pydata.org/pandas-docs/stable/user_guide/indexing.html#returning-a-view-versus-a-copy\n",
      "  self.obj[item] = s\n",
=======
>>>>>>> f338f2db62520590499a5b6f116c437b336ed547
      "/usr/local/lib/python3.8/site-packages/pandas/core/indexing.py:845: SettingWithCopyWarning: \n",
      "A value is trying to be set on a copy of a slice from a DataFrame.\n",
      "Try using .loc[row_indexer,col_indexer] = value instead\n",
      "\n",
      "See the caveats in the documentation: https://pandas.pydata.org/pandas-docs/stable/user_guide/indexing.html#returning-a-view-versus-a-copy\n",
      "  self.obj[key] = _infer_fill_value(value)\n",
      "/usr/local/lib/python3.8/site-packages/pandas/core/indexing.py:966: SettingWithCopyWarning: \n",
      "A value is trying to be set on a copy of a slice from a DataFrame.\n",
      "Try using .loc[row_indexer,col_indexer] = value instead\n",
      "\n",
      "See the caveats in the documentation: https://pandas.pydata.org/pandas-docs/stable/user_guide/indexing.html#returning-a-view-versus-a-copy\n",
      "  self.obj[item] = s\n"
     ]
    },
    {
     "name": "stdout",
     "output_type": "stream",
     "text": [
      "Model out 2027. afterocnf 2027. check ids 2027\n",
      "(2027, 3)\n",
      "Done\n"
     ]
    },
    {
     "name": "stderr",
     "output_type": "stream",
     "text": [
      "/usr/local/lib/python3.8/site-packages/pandas/core/indexing.py:845: SettingWithCopyWarning: \n",
      "A value is trying to be set on a copy of a slice from a DataFrame.\n",
      "Try using .loc[row_indexer,col_indexer] = value instead\n",
      "\n",
      "See the caveats in the documentation: https://pandas.pydata.org/pandas-docs/stable/user_guide/indexing.html#returning-a-view-versus-a-copy\n",
      "  self.obj[key] = _infer_fill_value(value)\n",
      "/usr/local/lib/python3.8/site-packages/pandas/core/indexing.py:966: SettingWithCopyWarning: \n",
      "A value is trying to be set on a copy of a slice from a DataFrame.\n",
      "Try using .loc[row_indexer,col_indexer] = value instead\n",
      "\n",
      "See the caveats in the documentation: https://pandas.pydata.org/pandas-docs/stable/user_guide/indexing.html#returning-a-view-versus-a-copy\n",
      "  self.obj[item] = s\n"
     ]
    }
   ],
   "source": [
    "##Run the adjustment\n",
    "keep_adj = []\n",
    "for name, df_coh in frames_for_adjust:\n",
    "    print('Working on ', name)\n",
    "    \n",
    "    \n",
    "    #variables for fitting procedure\n",
    "    x_feature = exposure_var\n",
    "    cat_vars = ['babySex','smoking','education']\n",
    "    contin_vars = ['PIN_Patient','BMI','UTAS'] \n",
    "\n",
    "    # dummy code\n",
    "    df_coh_coded_model =  dummy_code(df_coh, cat_vars, contin_vars)\n",
    "\n",
    "    ## variables for addjustment procedure\n",
    "    adjust_cat_vars =  ['babySex','smoking','education','race']\n",
    "    adjust_contin_vars = ['PIN_Patient','CohortType','BMI', 'ga_collection','birth_year','age']\n",
    "    \n",
    "    #add proper variable depending on cohort\n",
    "    if name == 'NEU':\n",
    "        adjust_contin_vars= adjust_contin_vars + ['SPECIFICGRAVITY_V2']\n",
    "\n",
    "    if name == 'UNM':\n",
    "        #adjust_contin_vars= adjust_contin_vars + ['SPECIFICGRAVITY_V2']\n",
    "        adjust_contin_vars = adjust_contin_vars + ['creatininemgdl']\n",
    "        #adjust_contin_vars = adjust_contin_vars + ['urine_specific_gravity']\n",
    "\n",
    "    if name == 'DAR':\n",
    "        #adjust_contin_vars= adjust_contin_vars + ['SPECIFICGRAVITY_V2']\n",
    "        adjust_contin_vars = adjust_contin_vars + ['urine_specific_gravity']\n",
    "\n",
    "    ## adjustment procedure\n",
    "    if name in ['NEU', 'UNM', 'DAR']:\n",
    "        #dummy code \n",
    "        df_coh_coded_adjust_model =  dummy_code(df_coh, adjust_cat_vars, adjust_contin_vars)\n",
    "        \n",
    "        d_test = df_coh_coded_adjust_model.dropna()\n",
    "    \n",
    "        dil_adj = dilutionproc.predict_dilution(d_test, name)\n",
    "        \n",
    "        fin = df_coh_coded_model.merge(dil_adj[['PIN_Patient','UDR']], on = ['PIN_Patient'])\n",
    "\n",
    "        adjs = dil_adj[['PIN_Patient','UDR']]\n",
    "        adjs.loc[:,'CohortType'] = name\n",
    "        print(adjs.shape)\n",
    "        keep_adj.append(adjs)\n",
    "        print('Done')"
   ]
  },
  {
   "cell_type": "code",
   "execution_count": 9,
   "metadata": {},
   "outputs": [],
   "source": [
    "#adjustments and cohort types\n",
    "\n",
    "cohort_adjustments = pd.concat(keep_adj)\n",
    "cohortTypes = df_ALL[['PIN_Patient','CohortType']]"
   ]
  },
  {
   "cell_type": "code",
   "execution_count": 10,
   "metadata": {},
   "outputs": [],
   "source": [
    "import os\n",
    "import shutil\n"
   ]
  },
  {
   "cell_type": "code",
   "execution_count": 11,
   "metadata": {},
   "outputs": [],
   "source": [
    "#directories to store the results based on combination of fish and adjustment procedurs. If exists, delete.\n",
    "#models below will use this to output their results\n",
    "directories_for_output = ['results/' + x for x in ['rresultslme','rresultslmer','rresultsglm','rresultsglmer']]\n",
    "\n",
    "for directory in directories_for_output:\n",
    "\n",
    "    try:\n",
    "        shutil.rmtree(directory + '_' + str(run_adjustment) + '_' + str(fish_consumption) + '_' + str(exposure_var))\n",
    "    except OSError as e:\n",
    "        print(\"Error: %s - %s.\" % (e.filename, e.strerror))\n",
    "    \n",
    "    os.makedirs(directory + '_' + str(run_adjustment) + '_' + str(fish_consumption) + '_' + str(exposure_var))"
   ]
  },
  {
   "cell_type": "code",
   "execution_count": 12,
   "metadata": {},
   "outputs": [
    {
     "name": "stdout",
     "output_type": "stream",
     "text": [
      "Working on  UNM\n",
      "Working on  DAR\n",
      "Working on  ALL\n",
      "Working on  UNM\n",
      "Working on  DAR\n",
      "Working on  ALL\n",
      "Working on  UNM\n",
      "Working on  DAR\n",
      "Working on  ALL\n",
      "Working on  UNM\n",
      "Before adjustment (2152, 13)\n",
      "After adjustment (4054, 15)\n",
      "Working on  DAR\n",
      "Before adjustment (2152, 13)\n",
      "After adjustment (4054, 15)\n",
      "Working on  ALL\n",
      "Working on  UNM\n",
      "Before adjustment (2152, 13)\n",
      "After adjustment (4054, 15)\n",
      "Working on  DAR\n",
      "Before adjustment (2152, 13)\n",
      "After adjustment (4054, 15)\n",
      "Working on  ALL\n",
      "Working on  UNM\n",
      "Before adjustment (2152, 13)\n",
      "After adjustment (4054, 15)\n",
      "Working on  DAR\n",
      "Before adjustment (2152, 13)\n",
      "After adjustment (4054, 15)\n",
      "Working on  ALL\n",
      "Working on  UNM\n",
      "Before adjustment (2152, 13)\n",
      "After adjustment (4054, 15)\n",
      "Working on  DAR\n",
      "Before adjustment (2152, 13)\n",
      "After adjustment (4054, 15)\n",
      "Working on  ALL\n"
     ]
    }
   ],
   "source": [
    "# dictonaries to hold unadjusted data frames for analysis\n",
    "frames_to_r_indv = dict()\n",
    "bin_frames_to_r_indv = dict()\n",
    "frames_to_r_all = dict()\n",
    "bin_frames_to_r_all = dict()\n",
    "\n",
    "\n",
    "\n",
    "#d_test = df_NEU[['PIN_Patient','CohortType','race', 'education','babySex','BMI', 'ga_collection','birth_year','age','SPECIFICGRAVITY_V2']]\n",
    "#all_vars = covars + [x_feature] \n",
    "Y_features_continuous = ['Outcome_weeks','birthWt', 'headCirc', 'birthLen']\n",
    "Y_features_binary    =  ['LGA','Outcome','SGA']\n",
    "\n",
    "\n",
    "outputs_conf = []\n",
    "outputs_crude = []\n",
    "\n",
    "## loop over all outcomes\n",
    "for outcome in Y_features_binary + Y_features_continuous:\n",
    "    \n",
    "    for name, df_coh in frames_for_analysis:\n",
    "        print('Working on ', name)\n",
    "\n",
    "        #variables for fitting procedure\n",
    "        x_feature = 'UTAS'\n",
    "        cat_vars = ['babySex','smoking','education']\n",
    "        \n",
    "        if outcome in Y_features_binary:\n",
    "            contin_vars = ['PIN_Patient','BMI',exposure_var,'parity'] + [outcome]\n",
    "        if outcome in Y_features_continuous:\n",
    "            contin_vars = ['PIN_Patient','BMI',exposure_var,'parity'] + [outcome]\n",
    "        \n",
    "        # dummy code\n",
    "        df_coh_coded_model =  dummy_code(df_coh, cat_vars, contin_vars)\n",
    "        \n",
    "        ## variables for addjustment procedure\n",
    "        adjust_cat_vars =  ['babySex','smoking','education','race']\n",
    "        adjust_contin_vars = ['PIN_Patient','CohortType','BMI', 'ga_collection','birth_year','age']\n",
    "        \n",
    "        ## loop over cohorts and merge with one-hot encoded data and adjustments\n",
    "        \n",
    "        if name in ['NEU', 'UNM', 'DAR']:\n",
    "\n",
    "            if outcome in Y_features_continuous and name != 'ALL':\n",
    "                \n",
    "                if run_adjustment == True:\n",
    "                    fin = df_coh_coded_model.merge(cohort_adjustments, on = ['PIN_Patient'])\n",
    "                    fin = fin.dropna()\n",
    "                    fin[exposure_var] = fin[exposure_var] / fin['UDR']\n",
    "                    fin[exposure_var] = np.log(fin[exposure_var])\n",
    "                    frames_to_r_indv[name + '|' + outcome ] = fin\n",
    "                if run_adjustment == False:\n",
    "                    fin = df_coh_coded_model\n",
    "                    fin = fin.dropna()\n",
    "                    fin[exposure_var] = np.log(fin[exposure_var])\n",
    "                    frames_to_r_indv[name + '|' + outcome ] = fin\n",
    "                    \n",
    "                \n",
    "            if outcome in Y_features_binary and name != 'ALL':\n",
    "                \n",
    "                if run_adjustment == True:\n",
    "                    fin = df_coh_coded_model.merge(cohort_adjustments, on = ['PIN_Patient'])\n",
    "                    fin = fin.dropna()\n",
    "                    fin[exposure_var] = fin[exposure_var] / fin['UDR']\n",
    "                    fin[exposure_var] = np.log(fin[exposure_var])\n",
    "                    bin_frames_to_r_indv[name + '|' + outcome] = fin\n",
    "                if run_adjustment == False:\n",
    "                    fin = df_coh_coded_model#.drop(['BMI'], axis = 1)\n",
    "                    fin = fin.dropna()\n",
    "                    fin[exposure_var] = np.log(fin[exposure_var])\n",
    "                    bin_frames_to_r_indv[name + '|' + outcome] = fin\n",
    "            \n",
    "            \n",
    "        if name in ['ALL']:\n",
    "            \n",
    "            #check if all adjustments have been coded\n",
    "            if len(keep_adj) == 3 and exposure_var == 'UTAS': df_adj_all = pd.concat(keep_adj)\n",
    "            if len(keep_adj) == 2 and exposure_var == 'SUM1': df_adj_all = pd.concat(keep_adj)\n",
    "            if len(keep_adj) == 2 and exposure_var == 'SUM2': df_adj_all = pd.concat(keep_adj)\n",
    "            \n",
    "          \n",
    "            if outcome in Y_features_continuous and name == 'ALL':\n",
    "\n",
    "                if run_adjustment == True:\n",
    "                    fin = df_coh_coded_model.merge(df_adj_all, on = ['PIN_Patient'])\n",
    "                    fin = fin.dropna()\n",
    "                    fin[exposure_var] = fin[exposure_var] / fin['UDR']\n",
    "                    fin[exposure_var] = np.log(fin[exposure_var])\n",
    "                    frames_to_r_all[name + '|' + outcome ] = fin\n",
    "                if run_adjustment == False:\n",
    "                    fin = df_coh_coded_model.merge(cohortTypes, on = ['PIN_Patient'])\n",
    "                    fin = fin.dropna()\n",
    "                    fin[exposure_var] = np.log(fin[exposure_var])\n",
    "                    frames_to_r_all[name + '|' + outcome ] = fin\n",
    "                    \n",
    "            if outcome in Y_features_binary and name == 'ALL':\n",
    "\n",
    "                if run_adjustment == True:\n",
    "                    fin = df_coh_coded_model.merge(df_adj_all, on = ['PIN_Patient'])\n",
    "                    fin = fin.dropna()\n",
    "                    fin[exposure_var] = fin[exposure_var] / fin['UDR']\n",
    "                    fin[exposure_var] = np.log(fin[exposure_var])\n",
    "                    bin_frames_to_r_all[name + '|' + outcome] = fin\n",
    "                if run_adjustment == False:    \n",
    "                    fin = df_coh_coded_model.merge(cohortTypes, on = ['PIN_Patient'])\n",
    "                    fin = fin.dropna()\n",
    "                    fin[exposure_var] = np.log(fin[exposure_var])\n",
    "                    bin_frames_to_r_all[name + '|' + outcome] = fin"
   ]
  },
  {
   "cell_type": "markdown",
   "metadata": {},
   "source": [
    "# Start R stuff\n",
    "\n",
    "### Using R because it has better GLMR packages\n"
   ]
  },
  {
   "cell_type": "code",
   "execution_count": 13,
   "metadata": {},
   "outputs": [],
   "source": [
    "%load_ext rpy2.ipython\n"
   ]
  },
  {
   "cell_type": "code",
   "execution_count": 14,
   "metadata": {},
   "outputs": [],
   "source": [
    "# Analysis for individual data"
   ]
  },
  {
   "cell_type": "code",
   "execution_count": 15,
   "metadata": {},
   "outputs": [],
   "source": [
    "# Set up output directories for results\n",
    "\n",
    "outputdir_lme = directories_for_output[0] + '_' + str(run_adjustment) + '_' + str(fish_consumption) + '_' + str(exposure_var)\n",
    "outputdir_lmer = directories_for_output[1] + '_' + str(run_adjustment) + '_' + str(fish_consumption) + '_' +  str(exposure_var)\n",
    "outputdir_glm = directories_for_output[2]  + '_' +  str(run_adjustment) + '_' + str(fish_consumption) + '_' +  str(exposure_var)\n",
    "outputdir_glmer = directories_for_output[3]  + '_' +  str(run_adjustment) + '_' + str(fish_consumption) + '_' +  str(exposure_var)\n",
    "\n",
    "\n",
    "%Rpush outputdir_lme\n",
    "%Rpush outputdir_lmer\n",
    "%Rpush outputdir_glm\n",
    "%Rpush outputdir_glmer"
   ]
  },
  {
   "cell_type": "code",
   "execution_count": 16,
   "metadata": {},
   "outputs": [],
   "source": [
    "if exposure_var == 'UTAS':\n",
    "\n",
    "    data_outcome_weeks_NEU = frames_to_r_indv['NEU|Outcome_weeks']\n",
    "    data_birthWt_NEU  = frames_to_r_indv['NEU|birthWt']\n",
    "    data_headCirc_NEU = frames_to_r_indv['NEU|headCirc']\n",
    "    data_birthLen_NEU = frames_to_r_indv['NEU|birthLen']\n",
    "\n",
    "    %Rpush data_outcome_weeks_NEU\n",
    "    %Rpush data_birthWt_NEU\n",
    "    %Rpush data_headCirc_NEU\n",
    "    %Rpush data_birthLen_NEU\n",
    "\n",
    "# either way we need the UNM and DAR data\n",
    "\n",
    "data_outcome_weeks_DAR = frames_to_r_indv['DAR|Outcome_weeks']\n",
    "data_birthWt_DAR  = frames_to_r_indv['DAR|birthWt']\n",
    "data_headCirc_DAR = frames_to_r_indv['DAR|headCirc']\n",
    "data_birthLen_DAR = frames_to_r_indv['DAR|birthLen']\n",
    "\n",
    "%Rpush data_outcome_weeks_DAR\n",
    "%Rpush data_birthWt_DAR\n",
    "%Rpush data_headCirc_DAR\n",
    "%Rpush data_birthLen_DAR\n",
    "\n",
    "\n",
    "data_outcome_weeks_UNM = frames_to_r_indv['UNM|Outcome_weeks']\n",
    "data_birthWt_UNM  = frames_to_r_indv['UNM|birthWt']\n",
    "data_headCirc_UNM = frames_to_r_indv['UNM|headCirc']\n",
    "data_birthLen_UNM = frames_to_r_indv['UNM|birthLen']\n",
    "\n",
    "%Rpush data_outcome_weeks_UNM\n",
    "%Rpush data_birthWt_UNM\n",
    "%Rpush data_headCirc_UNM\n",
    "%Rpush data_birthLen_UNM"
   ]
  },
  {
   "cell_type": "code",
   "execution_count": 17,
   "metadata": {},
   "outputs": [
    {
     "data": {
      "text/plain": [
<<<<<<< HEAD
       "(1959, 15)"
=======
       "(2304, 15)"
>>>>>>> f338f2db62520590499a5b6f116c437b336ed547
      ]
     },
     "execution_count": 17,
     "metadata": {},
     "output_type": "execute_result"
    }
   ],
   "source": [
    "data_outcome_weeks_DAR.shape"
   ]
  },
  {
   "cell_type": "code",
   "execution_count": 18,
   "metadata": {},
   "outputs": [],
   "source": [
    "if use_dilution_as_covar == False:\n",
    "\n",
    "\n",
    "    fit_str_outcome_weeks_indv = 'Outcome_weeks ~ parity + babySex_2.0 + education_2.0 + education_3.0 + education_4.0 + \\\n",
    "    education_5.0 + BMI + {}'.format(exposure_var)\n",
    "\n",
    "    fit_str_birthWt_indv = 'birthWt ~ parity +  babySex_2.0 + education_2.0 + education_3.0 + education_4.0 + \\\n",
    "    education_5.0 + BMI + {}'.format(exposure_var) \n",
    "\n",
    "    fit_str_headCirc_indv = 'headCirc ~ parity +  babySex_2.0 + education_2.0 + education_3.0 + education_4.0 + \\\n",
    "    education_5.0 + BMI + {}'.format(exposure_var) \n",
    "\n",
    "    fit_str_birthLen_indv = 'birthLen ~ parity +  babySex_2.0 + education_2.0 + education_3.0 + education_4.0 + \\\n",
    "    education_5.0 + BMI + {}'.format(exposure_var) \n",
    "    \n",
    "\n",
    "if use_dilution_as_covar == True:\n",
    "\n",
    "\n",
    "    fit_str_outcome_weeks_indv = 'Outcome_weeks ~ parity + babySex_2.0 + education_2.0 + education_3.0 + education_4.0 + \\\n",
    "    education_5.0 + BMI + {} + dilutionvar'.format(exposure_var)\n",
    "\n",
    "    fit_str_birthWt_indv = 'birthWt ~ parity +  babySex_2.0 + education_2.0 + education_3.0 + education_4.0 + \\\n",
    "    education_5.0 + BMI + {} + dilutionvar'.format(exposure_var) \n",
    "\n",
    "    fit_str_headCirc_indv = 'headCirc ~ parity +  babySex_2.0 + education_2.0 + education_3.0 + education_4.0 + \\\n",
    "    education_5.0 + BMI + {} + dilutionvar'.format(exposure_var) \n",
    "\n",
    "    fit_str_birthLen_indv = 'birthLen ~ parity +  babySex_2.0 + education_2.0 + education_3.0 + education_4.0 + \\\n",
    "    education_5.0 + BMI + {} + dilutionvar'.format(exposure_var) \n",
    "\n",
    "\n",
    "\n",
    "%Rpush fit_str_outcome_weeks_indv\n",
    "%Rpush fit_str_birthWt_indv\n",
    "%Rpush fit_str_headCirc_indv\n",
    "%Rpush fit_str_birthLen_indv"
   ]
  },
  {
   "cell_type": "code",
   "execution_count": 19,
   "metadata": {},
   "outputs": [],
   "source": [
    "## decide which analysis is being run\n",
    "\n",
    "\n",
    "if exposure_var == 'UTAS':\n",
    "\n",
    "    analysis_info = \\\n",
    "    [[fit_str_outcome_weeks_indv, data_outcome_weeks_NEU, 'NEU_cohorts_outcome_{}.txt'.format(exposure_var)],\n",
    "    [fit_str_birthWt_indv, data_birthWt_NEU, 'NEU_cohorts_birthWt_{}.txt'.format(exposure_var) ],\n",
    "    [fit_str_headCirc_indv, data_headCirc_NEU, 'NEU_cohorts_headCirc_{}.txt'.format(exposure_var) ],\n",
    "    [fit_str_birthLen_indv, data_birthLen_NEU, 'NEU_cohorts_birthLen_{}.txt'.format(exposure_var) ],\n",
    "    [fit_str_outcome_weeks_indv, data_outcome_weeks_DAR, 'DAR_cohorts_outcome_{}.txt'.format(exposure_var) ],\n",
    "    [fit_str_birthWt_indv, data_birthWt_DAR, 'DAR_cohorts_birthWt_{}.txt'.format(exposure_var) ],\n",
    "    [fit_str_headCirc_indv, data_headCirc_DAR, 'DAR_cohorts_headCirc_{}.txt'.format(exposure_var) ],\n",
    "    [fit_str_birthLen_indv, data_birthLen_DAR, 'DAR_cohorts_birthLen_{}.txt'.format(exposure_var) ],\n",
    "    [fit_str_outcome_weeks_indv, data_outcome_weeks_UNM, 'UNM_cohorts_outcome_{}.txt'.format(exposure_var) ],\n",
    "    [fit_str_birthWt_indv, data_birthWt_UNM, 'UNM_cohorts_birthWt_{}.txt'.format(exposure_var) ],\n",
    "    [fit_str_headCirc_indv, data_headCirc_UNM, 'UNM_cohorts_headCirc_{}.txt'.format(exposure_var) ],\n",
    "    [fit_str_birthLen_indv, data_birthLen_UNM, 'UNM_cohorts_birthLen_{}.txt'.format(exposure_var) ]]\n",
    "\n",
    "if exposure_var == 'SUM1':\n",
    "\n",
    "    analysis_info = \\\n",
    "    [[fit_str_outcome_weeks_indv, data_outcome_weeks_DAR, 'DAR_cohorts_outcome_{}.txt'.format(exposure_var) ],\n",
    "    [fit_str_birthWt_indv, data_birthWt_DAR, 'DAR_cohorts_birthWt_{}.txt'.format(exposure_var) ],\n",
    "    [fit_str_headCirc_indv, data_headCirc_DAR, 'DAR_cohorts_headCirc_{}.txt'.format(exposure_var) ],\n",
    "    [fit_str_birthLen_indv, data_birthLen_DAR, 'DAR_cohorts_birthLen_{}.txt'.format(exposure_var) ],\n",
    "    [fit_str_outcome_weeks_indv, data_outcome_weeks_UNM, 'UNM_cohorts_outcome_{}.txt'.format(exposure_var) ],\n",
    "    [fit_str_birthWt_indv, data_birthWt_UNM, 'UNM_cohorts_birthWt_{}.txt'.format(exposure_var) ],\n",
    "    [fit_str_headCirc_indv, data_headCirc_UNM, 'UNM_cohorts_headCirc_{}.txt'.format(exposure_var) ],\n",
    "    [fit_str_birthLen_indv, data_birthLen_UNM, 'UNM_cohorts_birthLen_{}.txt'.format(exposure_var) ]]\n",
    "    \n",
    "if exposure_var == 'SUM2':\n",
    "\n",
    "    analysis_info = \\\n",
    "    [[fit_str_outcome_weeks_indv, data_outcome_weeks_DAR, 'DAR_cohorts_outcome_{}.txt'.format(exposure_var) ],\n",
    "    [fit_str_birthWt_indv, data_birthWt_DAR, 'DAR_cohorts_birthWt_{}.txt'.format(exposure_var) ],\n",
    "    [fit_str_headCirc_indv, data_headCirc_DAR, 'DAR_cohorts_headCirc_{}.txt'.format(exposure_var) ],\n",
    "    [fit_str_birthLen_indv, data_birthLen_DAR, 'DAR_cohorts_birthLen_{}.txt'.format(exposure_var) ],\n",
    "    [fit_str_outcome_weeks_indv, data_outcome_weeks_UNM, 'UNM_cohorts_outcome_{}.txt'.format(exposure_var) ],\n",
    "    [fit_str_birthWt_indv, data_birthWt_UNM, 'UNM_cohorts_birthWt_{}.txt'.format(exposure_var) ],\n",
    "    [fit_str_headCirc_indv, data_headCirc_UNM, 'UNM_cohorts_headCirc_{}.txt'.format(exposure_var) ],\n",
    "    [fit_str_birthLen_indv, data_birthLen_UNM, 'UNM_cohorts_birthLen_{}.txt'.format(exposure_var) ]]"
   ]
  },
  {
   "cell_type": "code",
   "execution_count": 20,
   "metadata": {},
   "outputs": [
    {
     "name": "stderr",
     "output_type": "stream",
     "text": [
      "R[write to console]: Loading required package: Matrix\n",
      "\n"
     ]
    }
   ],
   "source": [
    "%%R\n",
    "\n",
    "library(lme4)\n",
    "\n",
    "run_lm <- function(fit_str, df, fileout ) {\n",
    "    m<-lm(fit_str, data=df)\n",
    "    sink(paste(outputdir_lme, fileout, sep = '/'))\n",
    "    print(fit_str)\n",
    "    print(summary(m))\n",
    "    print(paste(toString(NROW(df)), \" observations.\", sep = \" \"))\n",
    "    sink()\n",
    "    print('Done')\n",
    "}\n"
   ]
  },
  {
   "cell_type": "code",
   "execution_count": 21,
   "metadata": {},
   "outputs": [
    {
     "name": "stdout",
     "output_type": "stream",
     "text": [
      "Outcome_weeks ~ parity + babySex_2.0 + education_2.0 + education_3.0 + education_4.0 +     education_5.0 + BMI + SUM2\n",
      "[1] \"Done\"\n",
      "birthWt ~ parity +  babySex_2.0 + education_2.0 + education_3.0 + education_4.0 +     education_5.0 + BMI + SUM2\n",
      "[1] \"Done\"\n",
      "headCirc ~ parity +  babySex_2.0 + education_2.0 + education_3.0 + education_4.0 +     education_5.0 + BMI + SUM2\n",
      "[1] \"Done\"\n",
      "birthLen ~ parity +  babySex_2.0 + education_2.0 + education_3.0 + education_4.0 +     education_5.0 + BMI + SUM2\n",
      "[1] \"Done\"\n",
      "Outcome_weeks ~ parity + babySex_2.0 + education_2.0 + education_3.0 + education_4.0 +     education_5.0 + BMI + SUM2\n",
      "[1] \"Done\"\n",
      "birthWt ~ parity +  babySex_2.0 + education_2.0 + education_3.0 + education_4.0 +     education_5.0 + BMI + SUM2\n",
      "[1] \"Done\"\n",
      "headCirc ~ parity +  babySex_2.0 + education_2.0 + education_3.0 + education_4.0 +     education_5.0 + BMI + SUM2\n",
      "[1] \"Done\"\n",
      "birthLen ~ parity +  babySex_2.0 + education_2.0 + education_3.0 + education_4.0 +     education_5.0 + BMI + SUM2\n",
      "[1] \"Done\"\n"
     ]
    }
   ],
   "source": [
    "for fit_str, df, fileout in analysis_info:\n",
    "    \n",
    "    \n",
    "    print(fit_str)\n",
    "    \n",
    "    df.describe().transpose().to_csv(outputdir_lme + '/' + fileout.replace('.txt','_')+'info.csv')\n",
    "    \n",
    "    %Rpush fit_str\n",
    "    %Rpush df\n",
    "    %Rpush fileout\n",
    "\n",
    "    %R run_lm(fit_str, df, fileout)"
   ]
  },
  {
   "cell_type": "code",
   "execution_count": 22,
   "metadata": {},
   "outputs": [],
   "source": [
    "# Analysis for individual logistic regression results\n",
    "\n",
    "if exposure_var == 'UTAS':\n",
    "    data_Outcome_NEU = bin_frames_to_r_indv['NEU|Outcome']\n",
    "    data_LGA_NEU = bin_frames_to_r_indv['NEU|LGA']\n",
    "    data_SGA_NEU = bin_frames_to_r_indv['NEU|SGA']\n",
    "    \n",
    "    %Rpush data_Outcome_NEU\n",
    "    %Rpush data_LGA_NEU\n",
    "    %Rpush data_SGA_NEU\n",
    "\n",
    "data_Outcome_DAR = bin_frames_to_r_indv['DAR|Outcome']\n",
    "data_LGA_DAR = bin_frames_to_r_indv['DAR|LGA']\n",
    "data_SGA_DAR = bin_frames_to_r_indv['DAR|SGA']\n",
    "\n",
    "%Rpush data_Outcome_DAR\n",
    "%Rpush data_LGA_DAR\n",
    "%Rpush data_SGA_DAR\n",
    "\n",
    "data_Outcome_UNM = bin_frames_to_r_indv['UNM|Outcome']\n",
    "data_LGA_UNM = bin_frames_to_r_indv['UNM|LGA']\n",
    "data_SGA_UNM = bin_frames_to_r_indv['UNM|SGA']\n",
    "\n",
    "%Rpush data_Outcome_UNM\n",
    "%Rpush data_LGA_UNM\n",
    "%Rpush data_SGA_UNM\n",
    "\n",
    "if use_dilution_as_covar == False:\n",
    "\n",
    "    fit_str_outcome_indv = 'Outcome ~ parity + babySex_2.0 + education_2.0 + education_3.0 + education_4.0 + \\\n",
    "    education_5.0 + BMI + {}'.format(exposure_var) \n",
    "\n",
    "    fit_str_SGA_indv = 'SGA ~ parity + babySex_2.0 + education_2.0 + education_3.0 + education_4.0 + \\\n",
    "    education_5.0 + BMI + {}'.format(exposure_var)  \n",
    "\n",
    "    fit_str_LGA_indv = 'LGA ~ parity + babySex_2.0 + education_2.0 + education_3.0 + education_4.0 + \\\n",
    "    education_5.0 + BMI + {}'.format(exposure_var)  \n",
    "\n",
    "if use_dilution_as_covar == True:\n",
    "\n",
    "    fit_str_outcome_indv = 'Outcome ~ parity + babySex_2.0 + education_2.0 + education_3.0 + education_4.0 + \\\n",
    "    education_5.0 + BMI + {} + dilutionvar'.format(exposure_var) \n",
    "\n",
    "    fit_str_SGA_indv = 'SGA ~ parity + babySex_2.0 + education_2.0 + education_3.0 + education_4.0 + \\\n",
    "    education_5.0 + BMI + {} + dilutionvar'.format(exposure_var)  \n",
    "\n",
    "    fit_str_LGA_indv = 'LGA ~ parity + babySex_2.0 + education_2.0 + education_3.0 + education_4.0 + \\\n",
    "    education_5.0 + BMI + {} + dilutionvar'.format(exposure_var)  \n",
    "\n",
    "\n",
    "%Rpush fit_str_outcome_indv\n",
    "%Rpush fit_str_SGA_indv\n",
    "%Rpush fit_str_LGA_indv\n",
    "%Rpush outputdir_glm"
   ]
  },
  {
   "cell_type": "code",
   "execution_count": 23,
   "metadata": {},
   "outputs": [],
   "source": [
    "if exposure_var == 'UTAS':\n",
    "\n",
    "    analysis_info = [[fit_str_outcome_indv, data_Outcome_NEU, 'NEU_outcome_UTAS.txt'],\n",
    "                    [fit_str_LGA_indv, data_LGA_NEU, 'NEU_LGA_UTAS.txt'],\n",
    "                    [fit_str_SGA_indv, data_SGA_NEU, 'NEU_SGA_UTAS.txt'],\n",
    "                    [fit_str_outcome_indv, data_Outcome_DAR, 'DAR_outcome_UTAS.txt'],\n",
    "                    [fit_str_LGA_indv, data_LGA_DAR, 'DAR_LGA_UTAS.txt'],\n",
    "                    [fit_str_SGA_indv, data_SGA_DAR, 'DAR_SGA_UTAS.txt'],\n",
    "                    [fit_str_outcome_indv, data_Outcome_UNM, 'UNM_outcome_UTAS.txt'],\n",
    "                    [fit_str_LGA_indv, data_LGA_UNM, 'UNM_LGA_UTAS.txt'],\n",
    "                    [fit_str_SGA_indv, data_SGA_UNM, 'UNM_SGA_UTAS.txt']]\n",
    "    \n",
    "if exposure_var == 'SUM1':\n",
    "    \n",
    "    analysis_info = [[fit_str_outcome_indv, data_Outcome_DAR, 'DAR_outcome_{}.txt'.format(exposure_var)],\n",
    "                [fit_str_LGA_indv, data_LGA_DAR, 'DAR_LGA_{}.txt'.format(exposure_var)],\n",
    "                [fit_str_SGA_indv, data_SGA_DAR, 'DAR_SGA_{}.txt'.format(exposure_var)],\n",
    "                [fit_str_outcome_indv, data_Outcome_UNM, 'UNM_outcome_{}.txt'.format(exposure_var)],\n",
    "                [fit_str_LGA_indv, data_LGA_UNM, 'UNM_LGA_{}.txt'.format(exposure_var)],\n",
    "                [fit_str_SGA_indv, data_SGA_UNM, 'UNM_SGA_{}.txt'.format(exposure_var)]]\n",
    "    \n",
    "    \n",
    "if exposure_var == 'SUM2':\n",
    "    \n",
    "    analysis_info = [[fit_str_outcome_indv, data_Outcome_DAR, 'DAR_outcome_{}.txt'.format(exposure_var)],\n",
    "                [fit_str_LGA_indv, data_LGA_DAR, 'DAR_LGA_{}.txt'.format(exposure_var)],\n",
    "                [fit_str_SGA_indv, data_SGA_DAR, 'DAR_SGA_{}.txt'.format(exposure_var)],\n",
    "                [fit_str_outcome_indv, data_Outcome_UNM, 'UNM_outcome_{}.txt'.format(exposure_var)],\n",
    "                [fit_str_LGA_indv, data_LGA_UNM, 'UNM_LGA_{}.txt'.format(exposure_var)],\n",
    "                [fit_str_SGA_indv, data_SGA_UNM, 'UNM_SGA_{}.txt'.format(exposure_var)]]\n",
    "    "
   ]
  },
  {
   "cell_type": "code",
   "execution_count": 24,
   "metadata": {},
   "outputs": [],
   "source": [
    "#NEU"
   ]
  },
  {
   "cell_type": "code",
   "execution_count": 25,
   "metadata": {},
   "outputs": [],
   "source": [
    "%%R\n",
    "\n",
    "library(lme4)\n",
    "\n",
    "\n",
    "run_glm <- function(fit_str, df, fileout ) {\n",
    "    m<-glm(fit_str, data=df, family = 'binomial')\n",
    "    sink(paste(outputdir_glm, fileout, sep = '/'))\n",
    "    print(fit_str)\n",
    "    print(summary(m))\n",
    "    print(paste(toString(NROW(df)), \" observations.\", sep = \" \"))\n",
    "    sink()\n",
    "    print('Done')\n",
    "}\n"
   ]
  },
  {
   "cell_type": "code",
   "execution_count": 26,
   "metadata": {},
   "outputs": [
    {
     "name": "stdout",
     "output_type": "stream",
     "text": [
      "Outcome ~ parity + babySex_2.0 + education_2.0 + education_3.0 + education_4.0 +     education_5.0 + BMI + SUM2\n",
      "[1] \"Done\"\n",
      "LGA ~ parity + babySex_2.0 + education_2.0 + education_3.0 + education_4.0 +     education_5.0 + BMI + SUM2\n",
      "[1] \"Done\"\n",
      "SGA ~ parity + babySex_2.0 + education_2.0 + education_3.0 + education_4.0 +     education_5.0 + BMI + SUM2\n",
      "[1] \"Done\"\n",
      "Outcome ~ parity + babySex_2.0 + education_2.0 + education_3.0 + education_4.0 +     education_5.0 + BMI + SUM2\n",
      "[1] \"Done\"\n",
      "LGA ~ parity + babySex_2.0 + education_2.0 + education_3.0 + education_4.0 +     education_5.0 + BMI + SUM2\n",
      "[1] \"Done\"\n",
      "SGA ~ parity + babySex_2.0 + education_2.0 + education_3.0 + education_4.0 +     education_5.0 + BMI + SUM2\n",
      "[1] \"Done\"\n"
     ]
    }
   ],
   "source": [
    "for fit_str, df, fileout in analysis_info:\n",
    "    \n",
    "    print(fit_str)\n",
    "    df.describe().transpose().to_csv(outputdir_glm + '/' + fileout.replace('.txt','_')+'info.csv')\n",
    "    \n",
    "    %Rpush fit_str\n",
    "    %Rpush df\n",
    "    %Rpush fileout\n",
    "\n",
    "    %R run_glm(fit_str, df, fileout)"
   ]
  },
  {
   "cell_type": "code",
   "execution_count": 27,
   "metadata": {},
   "outputs": [],
   "source": [
    "# Analysis for combined DATA"
   ]
  },
  {
   "cell_type": "code",
   "execution_count": 28,
   "metadata": {},
   "outputs": [],
   "source": [
    "data_outcome_weeks = frames_to_r_all['ALL|Outcome_weeks']\n",
    "data_birthWt = frames_to_r_all['ALL|birthWt']\n",
    "data_headCirc = frames_to_r_all['ALL|headCirc']\n",
    "data_birthLen = frames_to_r_all['ALL|birthLen']\n",
    "\n",
    "%Rpush data_outcome_weeks\n",
    "%Rpush data_birthWt\n",
    "%Rpush data_headCirc\n",
    "%Rpush data_birthLen"
   ]
  },
  {
   "cell_type": "code",
   "execution_count": 29,
   "metadata": {},
   "outputs": [],
   "source": [
    "%Rpush outputdir_lmer"
   ]
  },
  {
   "cell_type": "code",
   "execution_count": 30,
   "metadata": {},
   "outputs": [],
   "source": [
    "if use_dilution_as_covar == False:\n",
    "\n",
    "    fit_str_outcome_weeks = 'Outcome_weeks ~ parity + babySex_2.0 + education_2.0 + education_3.0 + education_4.0 + \\\n",
    "    education_5.0 + BMI + {} + (1|CohortType)'.format(exposure_var)  \n",
    "\n",
    "    fit_str_birthWt = 'birthWt ~ parity +  babySex_2.0 + education_2.0 + education_3.0 + education_4.0 + \\\n",
    "    education_5.0 + BMI + {} + (1|CohortType)'.format(exposure_var)  \n",
    "\n",
    "    fit_str_headCirc = 'headCirc ~ parity +  babySex_2.0 + education_2.0 + education_3.0 + education_4.0 + \\\n",
    "    education_5.0 + BMI + {} + (1|CohortType)'.format(exposure_var) \n",
    "\n",
    "    fit_str_birthLen = 'birthLen ~ parity +  babySex_2.0 + education_2.0 + education_3.0 + education_4.0 + \\\n",
    "    education_5.0 + BMI + {} + (1|CohortType)'.format(exposure_var) \n",
    "\n",
    "if use_dilution_as_covar:\n",
    "\n",
    "    fit_str_outcome_weeks = 'Outcome_weeks ~ parity + babySex_2.0 + education_2.0 + education_3.0 + education_4.0 + \\\n",
    "    education_5.0 + BMI + {} + (1|CohortType) + dilutionvar'.format(exposure_var)  \n",
    "\n",
    "    fit_str_birthWt = 'birthWt ~ parity +  babySex_2.0 + education_2.0 + education_3.0 + education_4.0 + \\\n",
    "    education_5.0 + BMI + {} + (1|CohortType) + dilutionvar'.format(exposure_var)  \n",
    "\n",
    "    fit_str_headCirc = 'headCirc ~ parity +  babySex_2.0 + education_2.0 + education_3.0 + education_4.0 + \\\n",
    "    education_5.0 + BMI + {} + (1|CohortType) + dilutionvar'.format(exposure_var) \n",
    "\n",
    "    fit_str_birthLen = 'birthLen ~ parity +  babySex_2.0 + education_2.0 + education_3.0 + education_4.0 + \\\n",
    "    education_5.0 + BMI + {} + (1|CohortType) + dilutionvar'.format(exposure_var) \n",
    "\n",
    "\n",
    "\n",
    "%Rpush fit_str_outcome_weeks\n",
    "%Rpush fit_str_birthWt\n",
    "%Rpush fit_str_headCirc\n",
    "%Rpush fit_str_birthLen"
   ]
  },
  {
   "cell_type": "code",
   "execution_count": 31,
   "metadata": {},
   "outputs": [],
   "source": [
    "analysis_info = [[fit_str_outcome_weeks, data_outcome_weeks, 'all_cohorts_outcome_weeks_{}.txt'.format(exposure_var)],\n",
    "                [fit_str_birthWt, data_birthWt, 'all_cohorts_birthWt_{}.txt'.format(exposure_var)],\n",
    "                [fit_str_headCirc, data_headCirc, 'all_cohorts_headCirc_{}.txt'.format(exposure_var)],\n",
    "                [fit_str_birthLen, data_birthLen, 'all_cohorts_birthLen_{}.txt'.format(exposure_var)]]"
   ]
  },
  {
   "cell_type": "code",
   "execution_count": 32,
   "metadata": {},
   "outputs": [
    {
     "name": "stderr",
     "output_type": "stream",
     "text": [
      "R[write to console]: \n",
      "Attaching package: ‘lmerTest’\n",
      "\n",
      "\n",
      "R[write to console]: The following object is masked from ‘package:lme4’:\n",
      "\n",
      "    lmer\n",
      "\n",
      "\n",
      "R[write to console]: The following object is masked from ‘package:stats’:\n",
      "\n",
      "    step\n",
      "\n",
      "\n"
     ]
    }
   ],
   "source": [
    "%%R\n",
    "\n",
    "\n",
    "library(lmerTest)\n",
    "\n",
    "\n",
    "run_lmer <- function(fit_str, df, fileout ) {\n",
    "    m<-lmer(fit_str, data=df)\n",
    "    sink(paste(outputdir_lmer, fileout, sep = '/'))\n",
    "    print(fit_str)\n",
    "    print(summary(m))\n",
    "    print(paste(toString(NROW(df)), \" observations.\", sep = \" \"))\n",
    "    sink()\n",
    "    print('Done')\n",
    "}\n"
   ]
  },
  {
   "cell_type": "code",
   "execution_count": 33,
   "metadata": {},
   "outputs": [
    {
     "name": "stdout",
     "output_type": "stream",
     "text": [
<<<<<<< HEAD
      "Outcome_weeks ~ parity + babySex_2.0 + education_2.0 + education_3.0 + education_4.0 +     education_5.0 + BMI + UTAS + (1|CohortType)\n",
=======
      "Outcome_weeks ~ parity + babySex_2.0 + education_2.0 + education_3.0 + education_4.0 +     education_5.0 + BMI + SUM2 + (1|CohortType)\n"
     ]
    },
    {
     "name": "stderr",
     "output_type": "stream",
     "text": [
      "R[write to console]: boundary (singular) fit: see help('isSingular')\n",
      "\n"
     ]
    },
    {
     "name": "stdout",
     "output_type": "stream",
     "text": [
>>>>>>> f338f2db62520590499a5b6f116c437b336ed547
      "[1] \"Done\"\n",
      "birthWt ~ parity +  babySex_2.0 + education_2.0 + education_3.0 + education_4.0 +     education_5.0 + BMI + SUM2 + (1|CohortType)\n"
     ]
    },
    {
     "name": "stderr",
     "output_type": "stream",
     "text": [
      "R[write to console]: boundary (singular) fit: see help('isSingular')\n",
      "\n"
     ]
    },
    {
     "name": "stdout",
     "output_type": "stream",
     "text": [
      "[1] \"Done\"\n",
      "headCirc ~ parity +  babySex_2.0 + education_2.0 + education_3.0 + education_4.0 +     education_5.0 + BMI + SUM2 + (1|CohortType)\n"
     ]
    },
    {
     "name": "stderr",
     "output_type": "stream",
     "text": [
      "R[write to console]: boundary (singular) fit: see help('isSingular')\n",
      "\n"
     ]
    },
    {
     "name": "stdout",
     "output_type": "stream",
     "text": [
      "[1] \"Done\"\n",
      "birthLen ~ parity +  babySex_2.0 + education_2.0 + education_3.0 + education_4.0 +     education_5.0 + BMI + SUM2 + (1|CohortType)\n"
     ]
    },
    {
     "name": "stderr",
     "output_type": "stream",
     "text": [
      "R[write to console]: boundary (singular) fit: see help('isSingular')\n",
      "\n"
     ]
    },
    {
     "name": "stdout",
     "output_type": "stream",
     "text": [
      "[1] \"Done\"\n"
     ]
    }
   ],
   "source": [
    "for fit_str, df, fileout in analysis_info:\n",
    "    \n",
    "    print(fit_str)\n",
    "    df.describe().transpose().to_csv(outputdir_lmer + '/' +   fileout.replace('.txt','_')+'info.csv')\n",
    "    \n",
    "    %Rpush fit_str\n",
    "    %Rpush df\n",
    "    %Rpush fileout\n",
    "\n",
    "    %R run_lmer(fit_str, df, fileout)"
   ]
  },
  {
   "cell_type": "code",
   "execution_count": 34,
   "metadata": {},
   "outputs": [],
   "source": [
    "# binomial "
   ]
  },
  {
   "cell_type": "markdown",
   "metadata": {},
   "source": [
    "## TODO\n",
    "\n",
    "necessariy imports:\n",
    "\n",
    "import rpy2\n",
    "import pandas as pd\n",
    "%load_ext rpy2.ipython\n",
    "%R require(\"ggplot2\")\n",
    "creating dummy data frames:\n",
    "\n",
    "df1 = pd.DataFrame({\"A\": [1, 2, 3], \"B\": [1, 2, 3]})\n",
    "df2 = pd.DataFrame({\"A\": [3, 2, 1], \"B\": [1, 2, 3]})\n",
    "writing the plotting function:\n",
    "\n",
    "%%R\n",
    "plot_gg <- function(df) {\n",
    "    p <- ggplot(data=df) + geom_line(aes(x=A, y=B))\n",
    "    print(p)\n",
    "}\n",
    "and finally plot with only two lines of code:\n",
    "\n",
    "for df in df1, df2:\n",
    "    %Rpush df\n",
    "    %R plot_gg(df)"
   ]
  },
  {
   "cell_type": "code",
   "execution_count": 35,
   "metadata": {},
   "outputs": [],
   "source": [
    "data_Outcome = bin_frames_to_r_all['ALL|Outcome']\n",
    "data_LGA = bin_frames_to_r_all['ALL|LGA']\n",
    "data_SGA = bin_frames_to_r_all['ALL|SGA']\n",
    "\n",
    "#data_Outcome.loc[0:50,'CohortType'] = 'NEU2'\n",
    "\n",
    "%Rpush data_Outcome\n",
    "%Rpush data_LGA\n",
    "%Rpush data_SGA\n",
    "\n",
    "if use_dilution_as_covar == False:\n",
    "\n",
    "    fit_str_outcome = 'Outcome ~parity +  babySex_2.0 + education_2.0 + education_3.0 + education_4.0 + \\\n",
    "    education_5.0 + BMI + {} + (1|CohortType)'.format(exposure_var)\n",
    "\n",
    "    fit_str_SGA = 'SGA ~ parity +  babySex_2.0 + education_2.0 + education_3.0 + education_4.0 + \\\n",
    "    education_5.0 + BMI + {} + (1|CohortType)'.format(exposure_var) \n",
    "\n",
    "    fit_str_LGA = 'LGA ~ parity +  babySex_2.0 + education_2.0 + education_3.0 + education_4.0 + \\\n",
    "    education_5.0 + BMI + {} + (1|CohortType)'.format(exposure_var) \n",
    "\n",
    "if use_dilution_as_covar:\n",
    "\n",
    "    fit_str_outcome = 'Outcome ~parity +  babySex_2.0 + education_2.0 + education_3.0 + education_4.0 + \\\n",
    "    education_5.0 + BMI + {} + (1|CohortType) + dilutionvar'.format(exposure_var)\n",
    "\n",
    "    fit_str_SGA = 'SGA ~ parity +  babySex_2.0 + education_2.0 + education_3.0 + education_4.0 + \\\n",
    "    education_5.0 + BMI + {} + (1|CohortType) + dilutionvar'.format(exposure_var) \n",
    "\n",
    "    fit_str_LGA = 'LGA ~ parity +  babySex_2.0 + education_2.0 + education_3.0 + education_4.0 + \\\n",
    "    education_5.0 + BMI + {} + (1|CohortType) + dilutionvar'.format(exposure_var) \n",
    "\n",
    "\n",
    "%Rpush fit_str_outcome\n",
    "%Rpush fit_str_SGA\n",
    "%Rpush fit_str_LGA\n",
    "%Rpush outputdir_glmer\n",
    "\n",
    "\n",
    "analysis_info = [[fit_str_outcome, data_Outcome, 'all_cohorts_Outcome_{}.txt'.format(exposure_var)],\n",
    "                [fit_str_SGA, data_SGA, 'all_cohorts_SGA_{}.txt'.format(exposure_var)],\n",
    "                [fit_str_LGA, data_LGA, 'all_cohorts_LGA_{}.txt'.format(exposure_var)]]"
   ]
  },
  {
   "cell_type": "code",
   "execution_count": 36,
   "metadata": {},
   "outputs": [],
   "source": [
    "%%R\n",
    "\n",
    "library(lme4)\n",
    "\n",
    "run_glmer <- function(fit_str, df, fileout ) {\n",
    "    m<-glmer(fit_str, data=df, family = binomial)\n",
    "    sink(paste(outputdir_glmer, fileout, sep = '/'))\n",
    "    print(fit_str)\n",
    "    print(summary(m))\n",
    "    print(paste(toString(NROW(df)), \" observations.\", sep = \" \"))\n",
    "    sink()\n",
    "}\n"
   ]
  },
  {
   "cell_type": "code",
   "execution_count": 37,
   "metadata": {},
   "outputs": [
    {
     "data": {
      "text/plain": [
<<<<<<< HEAD
       "'results/rresultsglmer_True_True_UTAS/all_cohorts_birthLen_UTAS_info.csv'"
=======
       "'results/rresultsglmer_True_True_SUM2/all_cohorts_birthLen_SUM2_info.csv'"
>>>>>>> f338f2db62520590499a5b6f116c437b336ed547
      ]
     },
     "execution_count": 37,
     "metadata": {},
     "output_type": "execute_result"
    }
   ],
   "source": [
    "outputdir_glmer + '/' +  fileout.replace('.txt','_')+'info.csv'"
   ]
  },
  {
   "cell_type": "code",
   "execution_count": 38,
   "metadata": {},
   "outputs": [
    {
     "name": "stdout",
     "output_type": "stream",
     "text": [
<<<<<<< HEAD
      "Outcome ~parity +  babySex_2.0 + education_2.0 + education_3.0 + education_4.0 +     education_5.0 + BMI + UTAS + (1|CohortType)\n",
      "SGA ~ parity +  babySex_2.0 + education_2.0 + education_3.0 + education_4.0 +     education_5.0 + BMI + UTAS + (1|CohortType)\n",
      "LGA ~ parity +  babySex_2.0 + education_2.0 + education_3.0 + education_4.0 +     education_5.0 + BMI + UTAS + (1|CohortType)\n"
=======
      "Outcome ~parity +  babySex_2.0 + education_2.0 + education_3.0 + education_4.0 +     education_5.0 + BMI + SUM2 + (1|CohortType)\n"
     ]
    },
    {
     "name": "stderr",
     "output_type": "stream",
     "text": [
      "R[write to console]: boundary (singular) fit: see help('isSingular')\n",
      "\n"
     ]
    },
    {
     "name": "stdout",
     "output_type": "stream",
     "text": [
      "SGA ~ parity +  babySex_2.0 + education_2.0 + education_3.0 + education_4.0 +     education_5.0 + BMI + SUM2 + (1|CohortType)\n"
     ]
    },
    {
     "name": "stderr",
     "output_type": "stream",
     "text": [
      "R[write to console]: boundary (singular) fit: see help('isSingular')\n",
      "\n"
     ]
    },
    {
     "name": "stdout",
     "output_type": "stream",
     "text": [
      "LGA ~ parity +  babySex_2.0 + education_2.0 + education_3.0 + education_4.0 +     education_5.0 + BMI + SUM2 + (1|CohortType)\n"
     ]
    },
    {
     "name": "stderr",
     "output_type": "stream",
     "text": [
      "R[write to console]: boundary (singular) fit: see help('isSingular')\n",
      "\n"
>>>>>>> f338f2db62520590499a5b6f116c437b336ed547
     ]
    }
   ],
   "source": [
    "for fit_str, df, fileout in analysis_info:\n",
    "    \n",
    "    print(fit_str)\n",
    "    df.describe().transpose().to_csv(outputdir_glmer + '/' +  fileout.replace('.txt','_')+'info.csv')\n",
    "    \n",
    "    %Rpush fit_str\n",
    "    %Rpush df\n",
    "    %Rpush fileout\n",
    "\n",
    "    %R run_glmer(fit_str, df, fileout)"
   ]
  }
 ],
 "metadata": {
  "kernelspec": {
   "display_name": "Django Shell-Plus",
   "language": "python",
   "name": "django_extensions"
  },
  "language_info": {
   "codemirror_mode": {
    "name": "ipython",
    "version": 3
   },
   "file_extension": ".py",
   "mimetype": "text/x-python",
   "name": "python",
   "nbconvert_exporter": "python",
   "pygments_lexer": "ipython3",
   "version": "3.8.0"
  }
 },
 "nbformat": 4,
 "nbformat_minor": 4
}
