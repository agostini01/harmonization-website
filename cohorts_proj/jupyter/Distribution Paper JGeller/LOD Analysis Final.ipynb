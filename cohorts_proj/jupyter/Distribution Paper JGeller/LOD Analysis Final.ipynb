{
 "cells": [
  {
   "cell_type": "code",
   "execution_count": 1,
   "id": "f4e4d218",
   "metadata": {},
   "outputs": [],
   "source": [
    "##Latest notebook visualizing results for Distribution Paper by Julia Geller\n",
    "##Updated:  07/02/2022\n",
    "\n",
    "# Required to access the database\n",
    "import os\n",
    "os.environ[\"DJANGO_ALLOW_ASYNC_UNSAFE\"] = \"true\"\n",
    "\n",
    "\n",
    "import sys\n",
    "import numpy\n",
    "numpy.set_printoptions(threshold=sys.maxsize)\n",
    "\n",
    "# Data analysis tools\n",
    "import pandas as pd\n",
    "import numpy as np\n",
    "import seaborn as sns\n",
    "\n",
    "# Models available in our application\n",
    "from datasets.models import RawFlower, RawUNM, RawDAR, RawNHANES_BIO\n",
    "from django.contrib.auth.models import User\n",
    "from datasets.models import RawDictionary\n",
    "\n",
    "\n",
    "from datasets.models import RawNEU\n",
    "import statsmodels.api as sm\n",
    "import statsmodels.formula.api as smf\n",
    "import statsmodels\n",
    "\n",
    "from api import adapters"
   ]
  },
  {
   "cell_type": "code",
   "execution_count": 2,
   "id": "edb61732",
   "metadata": {
    "scrolled": false
   },
   "outputs": [],
   "source": [
    "##Create aliases\n",
    "NEU_alias = 'PROTECT'\n",
    "DAR_alias = 'NHBCS'\n",
    "UNM_alias = 'Navajo'\n",
    "NHANES_alias = 'NHANES' \n",
    "## Get the data\n",
    "\n",
    "## NEU (Cohort 1)\n",
    "df_NEU = adapters.neu.get_dataframe_orig()\n",
    "df_NEU = df_NEU[df_NEU['TimePeriod']==2] # Visit 2\n",
    "\n",
    "NEU_covars = adapters.neu.get_dataframe_covars()\n",
    "df_NEU_covars = NEU_covars.merge(df_NEU, on = ['PIN_Patient','CohortType','TimePeriod']) #Merge the covariates\n",
    "df_NEU['CohortType'] = NEU_alias\n",
    "\n",
    "df_NEU_blod = adapters.neu.get_dataframe_BLOD()\n",
    "df_NEU_blod['CohortType'] = NEU_alias\n",
    "df_NEU_blod = df_NEU_blod[df_NEU_blod['TimePeriod']==2]\n",
    "\n",
    "\n",
    "##DAR (Cohort 2)\n",
    "\n",
    "df_DAR = adapters.dar.get_dataframe()\n",
    "\n",
    "df_DAR_blod = adapters.dar.get_dataframe_BLOD()\n",
    "df_DAR_blod['CohortType'] = DAR_alias\n",
    "\n",
    "''''DAR_covars = adapters.dar.get_dataframe_covars()\n",
    "df_DAR_covars = DAR_covars.merge(df_DAR, on = ['PIN_Patient','CohortType','TimePeriod']) #Merge the covariates\n",
    "'''\n",
    "df_DAR['CohortType'] = DAR_alias\n",
    "\n",
    "\n",
    "\n",
    "\n",
    "df_UNM = adapters.unm.get_dataframe_orig()\n",
    "\n",
    "df_UNM_blod = adapters.unm.get_dataframe_BLOD()\n",
    "df_UNM_blod['CohortType'] = UNM_alias\n",
    "\n",
    "UNM_covars = adapters.unm.get_dataframe_covars()\n",
    "df_UNM_covars = UNM_covars.merge(df_UNM, on = ['PIN_Patient','CohortType','TimePeriod']) #Merge the covariates\n",
    "df_UNM['CohortType'] = UNM_alias\n",
    "\n",
    "'''\n",
    "##!!DELETE FOR WHEN FINALIZING RESULTS \n",
    "df_UNM = df_NEU.copy()\n",
    "df_UNM['CohortType'] = UNM_alias\n",
    "df_UNM_blod = df_NEU_blod.copy()\n",
    "df_UNM_blod['CohortType'] = UNM_alias\n",
    "'''\n",
    "\n",
    "##NHANES \n",
    "\n",
    "df_NHANES = adapters.nhanes.get_dataframe_orig()\n",
    "df_NHANES = df_NHANES.rename_axis(None, axis=1)\n",
    "\n",
    "df_NHANES_blod = adapters.nhanes.get_dataframe_orig_blod()\n",
    "\n",
    "NHANES_covars = adapters.nhanes.get_dataframe_covars()\n",
    "##df_NHANES_covars = NHANES_covars.merge(df_NHANES, on = ['PIN_Patient','CohortType','TimePeriod'])\n",
    "df_NHANES['CohortType'] = NHANES_alias\n",
    "df_NHANES_blod['CohortType'] = NHANES_alias\n",
    "\n"
   ]
  },
  {
   "cell_type": "code",
   "execution_count": 3,
   "id": "30731c8a",
   "metadata": {},
   "outputs": [],
   "source": [
    "df_unm_lod = pd.DataFrame.from_records(\n",
    "        RawUNM.objects.\n",
    "        # exclude(Creat_Corr_Result__lt=-1000).\n",
    "        # exclude(Creat_Corr_Result__isnull=True).\n",
    "        values()\n",
    "    )\n",
    "df_unm_lod['LOD']=np.where(df_unm_lod['imputed'] == 1, df_unm_lod['Result'] * np.sqrt(2), np.nan)\n",
    "df_unm_lod = df_unm_lod.loc[~df_unm_lod['LOD'].isna(), ['LOD', 'Analyte']].drop_duplicates()"
   ]
  },
  {
   "cell_type": "code",
   "execution_count": 4,
   "id": "43d82f81",
   "metadata": {
    "scrolled": true
   },
   "outputs": [],
   "source": [
    "df_neu_lod = pd.DataFrame.from_records(\n",
    "        RawNEU.objects.\n",
    "        # exclude(Creat_Corr_Result__lt=-1000).\n",
    "        # exclude(Creat_Corr_Result__isnull=True).\n",
    "        values()\n",
    "    )\n",
    "df_neu_lod2 = df_neu_lod.loc[~df_neu_lod['LOD'].isna(), ['LOD', 'Analyte']].drop_duplicates()\n",
    "\n"
   ]
  },
  {
   "cell_type": "code",
   "execution_count": 18,
   "id": "5a3aa9a2",
   "metadata": {},
   "outputs": [],
   "source": [
    "df_dar_lod = pd.DataFrame.from_records(\n",
    "        RawDAR.objects.\n",
    "        # exclude(Creat_Corr_Result__lt=-1000).\n",
    "        # exclude(Creat_Corr_Result__isnull=True).\n",
    "        values()\n",
    "    )\n",
    "c = df_dar_lod[[x for x in df_dar_lod.columns if 'IDL' in x]]\n",
    "df_dar_lod_melted = pd.melt(c).drop_duplicates()\n",
    "map_analyte = {'UIAS': 'iAs' ,\n",
    "            'UASB': 'AsB', \n",
    "            'UAS3': 'AsIII', \n",
    "            'UAS5': 'AsV', \n",
    "            'UDMA': 'DMA', \n",
    "            'UMMA': 'MMA',\n",
    "            'UBA': 'Ba', \n",
    "            'UAG': 'Ag', \n",
    "            'UAL': 'Al', \n",
    "            'UAS': 'As', \n",
    "            'UBE': 'Be', \n",
    "            'UCA': 'Ca', \n",
    "            'UCD': 'Cd', \n",
    "            'UCO': 'Co', \n",
    "            'UCR': 'Cr', \n",
    "            'UCS': 'Cs', \n",
    "            'UCU': 'Cu', \n",
    "            'UFE': 'Fe', \n",
    "            'UHG': 'Hg', \n",
    "            'UPO': 'K',\n",
    "            'UMG': 'Mg', \n",
    "            'UMN': 'Mn', \n",
    "            'UMO': 'Mo', \n",
    "            'UNI': 'Ni', \n",
    "            'UPP': 'P', \n",
    "            'UPB': 'Pb',\n",
    "            'USB': 'Sb', \n",
    "            'USE': 'Se', \n",
    "            'USI': 'Si', \n",
    "            'USN': 'Sn',\n",
    "            'USR': 'Sr', \n",
    "            'UTL': 'Tl',\n",
    "            'UUR': 'U', \n",
    "            'UTU': 'W', \n",
    "            'UZN': 'Zn', \n",
    "            'UVA': 'V'}\n",
    "map_analyte_inv = {v:k for k, v in map_analyte.items()}\n",
    "df_dar_lod_melted['Analyte'] = df_dar_lod_melted['variable'].apply(lambda x : map_analyte_inv[x.replace('_IDL', '')])\n",
    "df_dar_lod_melted['LOD'] = df_dar_lod_melted['value']"
   ]
  },
  {
   "cell_type": "code",
   "execution_count": 19,
   "id": "0da3afb2",
   "metadata": {},
   "outputs": [],
   "source": [
    "df_NHANES_lod = pd.DataFrame.from_records(\n",
    "        RawNHANES_LLOD.objects.\n",
    "        # exclude(Creat_Corr_Result__lt=-1000).\n",
    "        # exclude(Creat_Corr_Result__isnull=True).\n",
    "        values()\n",
    "    )\n",
    "df_NHANES_lod\n",
    "\n",
    "df_NHANES_lod['LOD'] = df_NHANES_lod['Value']"
   ]
  },
  {
   "cell_type": "code",
   "execution_count": 7,
   "id": "83ee9f44",
   "metadata": {},
   "outputs": [],
   "source": [
    "pd.set_option('display.max_rows', 500)"
   ]
  },
  {
   "cell_type": "code",
   "execution_count": 21,
   "id": "4e046683",
   "metadata": {
    "scrolled": true
   },
   "outputs": [],
   "source": [
    "df_neu_lod2['Cohort'] = 'NEU'\n",
    "df_unm_lod['Cohort'] = 'UNM'\n",
    "df_NHANES_lod['Cohort'] = 'NHANES'\n",
    "df_dar_lod_melted['Cohort'] = 'DAR'"
   ]
  },
  {
   "cell_type": "code",
   "execution_count": 23,
   "id": "441d5989",
   "metadata": {},
   "outputs": [],
   "source": [
    "keep_cols = ['Cohort','Analyte','LOD']"
   ]
  },
  {
   "cell_type": "code",
   "execution_count": 28,
   "id": "06c56026",
   "metadata": {},
   "outputs": [
    {
     "name": "stdout",
     "output_type": "stream",
     "text": [
      "Index(['Cohort', 'Analyte', 'LOD'], dtype='object')\n",
      "Index(['Cohort', 'Analyte', 'LOD'], dtype='object')\n",
      "Index(['Cohort', 'Analyte', 'LOD'], dtype='object')\n",
      "Index(['Cohort', 'Analyte', 'LOD'], dtype='object')\n"
     ]
    },
    {
     "data": {
      "text/plain": [
       "[None, None, None, None]"
      ]
     },
     "execution_count": 28,
     "metadata": {},
     "output_type": "execute_result"
    }
   ],
   "source": [
    "all_dfs = [df_neu_lod2[keep_cols],\n",
    "df_unm_lod[keep_cols],\n",
    "df_NHANES_lod[keep_cols],\n",
    "df_dar_lod_melted[keep_cols]]\n",
    "\n",
    "[print(x.columns) for x in all_dfs]"
   ]
  },
  {
   "cell_type": "code",
   "execution_count": 33,
   "id": "3e6e95aa",
   "metadata": {},
   "outputs": [],
   "source": [
    "pd.concat(all_dfs).to_csv('all_LODS_by_cohort.csv', index = False)"
   ]
  }
 ],
 "metadata": {
  "kernelspec": {
   "display_name": "Django Shell-Plus",
   "language": "python",
   "name": "django_extensions"
  },
  "language_info": {
   "codemirror_mode": {
    "name": "ipython",
    "version": 3
   },
   "file_extension": ".py",
   "mimetype": "text/x-python",
   "name": "python",
   "nbconvert_exporter": "python",
   "pygments_lexer": "ipython3",
   "version": "3.8.0"
  }
 },
 "nbformat": 4,
 "nbformat_minor": 5
}
