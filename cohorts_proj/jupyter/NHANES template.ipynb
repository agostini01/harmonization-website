{
 "cells": [
  {
   "cell_type": "code",
   "execution_count": 1,
   "id": "f4e4d218",
   "metadata": {},
   "outputs": [],
   "source": [
    "# Required to access the database\n",
    "import os\n",
    "os.environ[\"DJANGO_ALLOW_ASYNC_UNSAFE\"] = \"true\"\n",
    "\n",
    "import sys\n",
    "import numpy\n",
    "numpy.set_printoptions(threshold=sys.maxsize)\n",
    "\n",
    "# Data analysis tools\n",
    "import pandas as pd\n",
    "import numpy as np\n",
    "import seaborn as sns\n",
    "\n",
    "# Models available in our application\n",
    "from datasets.models import RawFlower, RawUNM, RawDAR, RawNHANES_BIO\n",
    "from django.contrib.auth.models import User\n",
    "from datasets.models import RawDictionary\n",
    "\n",
    "\n",
    "from datasets.models import RawNEU\n",
    "import statsmodels.api as sm\n",
    "import statsmodels.formula.api as smf\n",
    "import statsmodels\n",
    "\n",
    "from api import adapters\n",
    "\n"
   ]
  },
  {
   "cell_type": "code",
   "execution_count": 2,
   "id": "b5cf5d28",
   "metadata": {},
   "outputs": [],
   "source": [
    "def merge3CohortFrames2(df1,df2,df3):\n",
    "    'merge on feature intersections'\n",
    "\n",
    "    for as_feature in ['UASB', 'UDMA', 'UAS5', 'UIAS', 'UAS3', 'UMMA']:\n",
    "        if as_feature not in df1.columns:\n",
    "            df1[as_feature] = np.nan\n",
    "        if as_feature not in df2.columns:\n",
    "            df2[as_feature] = np.nan\n",
    "        if as_feature not in df3.columns:\n",
    "            df3[as_feature] = np.nan\n",
    "\n",
    "    s1 = set(df1.columns)\n",
    "    s2 = set(df2.columns)\n",
    "    s3 = set(df3.columns)\n",
    "\n",
    "    cc = set.intersection(s1, s2, s3)\n",
    "\n",
    "    df_all = pd.concat([df1[cc],df2[cc],df3[cc]])\n",
    "\n",
    "    return df_all"
   ]
  },
  {
   "cell_type": "code",
   "execution_count": 3,
   "id": "edb61732",
   "metadata": {},
   "outputs": [
    {
     "name": "stdout",
     "output_type": "stream",
     "text": [
      "Data Stats\n",
      "NEU\n",
      "(570, 55)\n",
      "Data Stats\n",
      "UNM\n",
      "(570, 55)\n",
      "Data Stats\n",
      "DAR\n",
      "(570, 55)\n",
      "Data Stats\n",
      "ALL\n",
      "(1710, 55)\n"
     ]
    }
   ],
   "source": [
    "## Get the data\n",
    "\n",
    "## Get NEU data with no fish\n",
    "df_NEU = adapters.neu.get_dataframe_orig()\n",
    "df_NEU = df_NEU[df_NEU['TimePeriod']==2] # Visit 2\n",
    "\n",
    "df_NEU_blod = adapters.neu.get_dataframe_BLOD()\n",
    "\n",
    "df_NEU_covars = adapters.neu.get_dataframe_covars()\n",
    "df_NEU = df_NEU_covars.merge(df_NEU, on = ['PIN_Patient','CohortType','TimePeriod']) #Merge the covariates\n",
    "\n",
    "## Get DAR data\n",
    "## df_DAR = adapters.unm.get_dataframe_orig()\n",
    "\n",
    "df_DAR = df_NEU.copy()\n",
    "df_DAR_blod = df_NEU_blod.copy()\n",
    "df_DAR['CohortType'] = 'DAR'\n",
    "\n",
    "## Get UNM data\n",
    "'''\n",
    "df_UNM = adapters.unm.get_dataframe_orig()\n",
    "df_UNM_covars = adapters.unm.get_dataframe_covars()\n",
    "df_UNM = df_UNM_covars.merge(df_UNM, on = ['PIN_Patient','CohortType','TimePeriod']) #Merge the covariates\n",
    "'''\n",
    "\n",
    "df_UNM = df_NEU.copy()\n",
    "df_UNM_blod = df_NEU_blod.copy()\n",
    "df_UNM['CohortType'] = 'UNM'\n",
    "\n",
    "## get NHANES data\n",
    "\n",
    "df_NHANES = adapters.nhanes.get_dataframe_orig()\n",
    "df_NHANES_blod = adapters.nhanes.get_dataframe_orig_blod()\n",
    "df_NHANES_covars = adapters.nhanes.get_dataframe_covars()\n",
    "\n",
    "## JULIA: You will need another function that merges 4 data frames\n",
    "df_ALL = merge3CohortFrames2(df_NEU, df_UNM, df_DAR)\n",
    "\n",
    "\n",
    "## df_ALL = analysis.merge3CohortFrames(df_NEU, df_UNM, df_DAR)\n",
    "frames_for_analysis = [\n",
    "    ('NEU', df_NEU),\n",
    "    ('UNM', df_UNM),\n",
    "    ('DAR', df_DAR),\n",
    "    ('ALL', df_ALL)\n",
    "\n",
    "]\n",
    "\n",
    "for name, df in frames_for_analysis:\n",
    "    print('Data Stats')\n",
    "    print(name)\n",
    "    print(df.shape)"
   ]
  },
  {
   "cell_type": "code",
   "execution_count": 9,
   "id": "cea9137c",
   "metadata": {},
   "outputs": [
    {
     "name": "stdout",
     "output_type": "stream",
     "text": [
      "<class 'pandas.core.frame.DataFrame'>\n",
      "Int64Index: 247 entries, 198 to 57301\n",
      "Data columns (total 11 columns):\n",
      " #   Column       Non-Null Count  Dtype  \n",
      "---  ------       --------------  -----  \n",
      " 0   PIN_Patient  247 non-null    int64  \n",
      " 1   Age          247 non-null    int64  \n",
      " 2   TimePeriod   247 non-null    object \n",
      " 3   Pregnant     247 non-null    float64\n",
      " 4   Marital      247 non-null    float64\n",
      " 5   Child_A      247 non-null    int64  \n",
      " 6   Child_B      247 non-null    int64  \n",
      " 7   H_Inc        237 non-null    float64\n",
      " 8   F_Inc        237 non-null    float64\n",
      " 9   Edu          247 non-null    float64\n",
      " 10  Rac          247 non-null    int64  \n",
      "dtypes: float64(5), int64(5), object(1)\n",
      "memory usage: 23.2+ KB\n"
     ]
    }
   ],
   "source": [
    "## Only 247 pregnant woman in all of NHANES?\n",
    "\n",
    "df_NHANES_covars.info()"
   ]
  },
  {
   "cell_type": "code",
   "execution_count": 5,
   "id": "1f68e4ec",
   "metadata": {},
   "outputs": [
    {
     "name": "stdout",
     "output_type": "stream",
     "text": [
      "<class 'pandas.core.frame.DataFrame'>\n",
      "RangeIndex: 243 entries, 0 to 242\n",
      "Data columns (total 22 columns):\n",
      " #   Column       Non-Null Count  Dtype  \n",
      "---  ------       --------------  -----  \n",
      " 0   PIN_Patient  243 non-null    int64  \n",
      " 1   TimePeriod   243 non-null    object \n",
      " 2   UALB_mg      186 non-null    float64\n",
      " 3   UALB_ug      186 non-null    float64\n",
      " 4   UBA          80 non-null     float64\n",
      " 5   UCD          80 non-null     float64\n",
      " 6   UCO          80 non-null     float64\n",
      " 7   UCR          20 non-null     float64\n",
      " 8   UCRT_mg      121 non-null    float64\n",
      " 9   UCRT_umol    121 non-null    float64\n",
      " 10  UCS          80 non-null     float64\n",
      " 11  UHG          80 non-null     float64\n",
      " 12  UI           42 non-null     float64\n",
      " 13  UMN          80 non-null     float64\n",
      " 14  UMO          80 non-null     float64\n",
      " 15  UNI          20 non-null     float64\n",
      " 16  UPB          80 non-null     float64\n",
      " 17  USB          80 non-null     float64\n",
      " 18  USN          80 non-null     float64\n",
      " 19  UTL          80 non-null     float64\n",
      " 20  UTU          80 non-null     float64\n",
      " 21  CohortType   243 non-null    object \n",
      "dtypes: float64(19), int64(1), object(2)\n",
      "memory usage: 41.9+ KB\n"
     ]
    }
   ],
   "source": [
    "## Comments:\n",
    "## While you have 243 total participants, it varies per analyte.\n",
    "## UALB_mg is not a harmonized variable: #df['UALB'] = df['UALB_mg'] * converversion\n",
    "## UCRT_mg is not a harmonized variable\n",
    "## UCRT_unmol is not a harmonized varaible\n",
    "\n",
    "\n",
    "\n",
    "\n",
    "df_NHANES_blod.info()"
   ]
  },
  {
   "cell_type": "code",
   "execution_count": 6,
   "id": "2d28f493",
   "metadata": {},
   "outputs": [
    {
     "name": "stdout",
     "output_type": "stream",
     "text": [
      "<class 'pandas.core.frame.DataFrame'>\n",
      "RangeIndex: 243 entries, 0 to 242\n",
      "Data columns (total 22 columns):\n",
      " #   Column       Non-Null Count  Dtype  \n",
      "---  ------       --------------  -----  \n",
      " 0   PIN_Patient  243 non-null    int64  \n",
      " 1   TimePeriod   243 non-null    object \n",
      " 2   UALB_mg      186 non-null    float64\n",
      " 3   UALB_ug      186 non-null    float64\n",
      " 4   UBA          80 non-null     float64\n",
      " 5   UCD          80 non-null     float64\n",
      " 6   UCO          80 non-null     float64\n",
      " 7   UCR          20 non-null     float64\n",
      " 8   UCRT_mg      121 non-null    float64\n",
      " 9   UCRT_umol    121 non-null    float64\n",
      " 10  UCS          80 non-null     float64\n",
      " 11  UHG          80 non-null     float64\n",
      " 12  UI           42 non-null     float64\n",
      " 13  UMN          80 non-null     float64\n",
      " 14  UMO          80 non-null     float64\n",
      " 15  UNI          20 non-null     float64\n",
      " 16  UPB          80 non-null     float64\n",
      " 17  USB          80 non-null     float64\n",
      " 18  USN          80 non-null     float64\n",
      " 19  UTL          80 non-null     float64\n",
      " 20  UTU          80 non-null     float64\n",
      " 21  CohortType   243 non-null    object \n",
      "dtypes: float64(19), int64(1), object(2)\n",
      "memory usage: 41.9+ KB\n"
     ]
    }
   ],
   "source": [
    "df_NHANES_blod.info()\n"
   ]
  }
 ],
 "metadata": {
  "kernelspec": {
   "display_name": "Django Shell-Plus",
   "language": "python",
   "name": "django_extensions"
  },
  "language_info": {
   "codemirror_mode": {
    "name": "ipython",
    "version": 3
   },
   "file_extension": ".py",
   "mimetype": "text/x-python",
   "name": "python",
   "nbconvert_exporter": "python",
   "pygments_lexer": "ipython3",
   "version": "3.8.0"
  }
 },
 "nbformat": 4,
 "nbformat_minor": 5
}
